{
 "cells": [
  {
   "cell_type": "code",
   "execution_count": 1,
   "id": "6902a4ae",
   "metadata": {},
   "outputs": [],
   "source": [
    "import tqdm\n",
    "import pandas as pd\n",
    "import os.path\n",
    "import re"
   ]
  },
  {
   "cell_type": "code",
   "execution_count": 8,
   "id": "d1ce98e3",
   "metadata": {},
   "outputs": [
    {
     "data": {
      "text/plain": [
       "['./data/tabula-MDL/tabula-MDL - PSJ3 Exhibit 88-42.csv',\n",
       " './data/tabula-MDL/tabula-MDL - PSJ3 Exhibit 88-41.csv',\n",
       " './data/tabula-MDL/tabula-MDL - PSJ3 Exhibit 88-40.csv',\n",
       " './data/tabula-MDL/tabula-MDL - PSJ3 Exhibit 88-33.csv',\n",
       " './data/tabula-MDL/tabula-MDL - PSJ3 Exhibit 88-27.csv',\n",
       " './data/tabula-MDL/tabula-MDL - PSJ3 Exhibit 88-26.csv',\n",
       " './data/tabula-MDL/tabula-MDL - PSJ3 Exhibit 88-32.csv',\n",
       " './data/tabula-MDL/tabula-MDL - PSJ3 Exhibit 88-9.csv',\n",
       " './data/tabula-MDL/tabula-MDL - PSJ3 Exhibit 88-18.csv',\n",
       " './data/tabula-MDL/tabula-MDL - PSJ3 Exhibit 88-24.csv',\n",
       " './data/tabula-MDL/tabula-MDL - PSJ3 Exhibit 88-30.csv',\n",
       " './data/tabula-MDL/tabula-MDL - PSJ3 Exhibit 88-31.csv',\n",
       " './data/tabula-MDL/tabula-MDL - PSJ3 Exhibit 88-25.csv',\n",
       " './data/tabula-MDL/tabula-MDL - PSJ3 Exhibit 88-19.csv',\n",
       " './data/tabula-MDL/tabula-MDL - PSJ3 Exhibit 88-8.csv',\n",
       " './data/tabula-MDL/tabula-MDL - PSJ3 Exhibit 88-21.csv',\n",
       " './data/tabula-MDL/tabula-MDL - PSJ3 Exhibit 88-35.csv',\n",
       " './data/tabula-MDL/tabula-MDL - PSJ3 Exhibit 88-34.csv',\n",
       " './data/tabula-MDL/tabula-MDL - PSJ3 Exhibit 88-20.csv',\n",
       " './data/tabula-MDL/tabula-MDL - PSJ3 Exhibit 88-36.csv',\n",
       " './data/tabula-MDL/tabula-MDL - PSJ3 Exhibit 88-22.csv',\n",
       " './data/tabula-MDL/tabula-MDL - PSJ3 Exhibit 88-23.csv',\n",
       " './data/tabula-MDL/tabula-MDL - PSJ3 Exhibit 88-37.csv',\n",
       " './data/tabula-MDL/tabula-MDL - PSJ3 Exhibit 88-3.csv',\n",
       " './data/tabula-MDL/tabula-MDL - PSJ3 Exhibit 88-12.csv',\n",
       " './data/tabula-MDL/tabula-MDL - PSJ3 Exhibit 88-13.csv',\n",
       " './data/tabula-MDL/tabula-MDL - PSJ3 Exhibit 88-2.csv',\n",
       " './data/tabula-MDL/tabula-MDL - PSJ3 Exhibit 88-0.csv',\n",
       " './data/tabula-MDL/tabula-MDL - PSJ3 Exhibit 88-39.csv',\n",
       " './data/tabula-MDL/tabula-MDL - PSJ3 Exhibit 88-11.csv',\n",
       " './data/tabula-MDL/tabula-MDL - PSJ3 Exhibit 88-10.csv',\n",
       " './data/tabula-MDL/tabula-MDL - PSJ3 Exhibit 88-38.csv',\n",
       " './data/tabula-MDL/tabula-MDL - PSJ3 Exhibit 88-1.csv',\n",
       " './data/tabula-MDL/tabula-MDL - PSJ3 Exhibit 88-5.csv',\n",
       " './data/tabula-MDL/tabula-MDL - PSJ3 Exhibit 88-14.csv',\n",
       " './data/tabula-MDL/tabula-MDL - PSJ3 Exhibit 88-28.csv',\n",
       " './data/tabula-MDL/tabula-MDL - PSJ3 Exhibit 88-29.csv',\n",
       " './data/tabula-MDL/tabula-MDL - PSJ3 Exhibit 88-15.csv',\n",
       " './data/tabula-MDL/tabula-MDL - PSJ3 Exhibit 88-4.csv',\n",
       " './data/tabula-MDL/tabula-MDL - PSJ3 Exhibit 88-6.csv',\n",
       " './data/tabula-MDL/tabula-MDL - PSJ3 Exhibit 88-17.csv',\n",
       " './data/tabula-MDL/tabula-MDL - PSJ3 Exhibit 88-16.csv',\n",
       " './data/tabula-MDL/tabula-MDL - PSJ3 Exhibit 88-7.csv']"
      ]
     },
     "execution_count": 8,
     "metadata": {},
     "output_type": "execute_result"
    }
   ],
   "source": [
    "import glob\n",
    "dirty_files = glob.glob('./data/tabula-MDL/*.csv')\n",
    "dirty_files"
   ]
  },
  {
   "cell_type": "code",
   "execution_count": 125,
   "id": "c83f7099",
   "metadata": {},
   "outputs": [
    {
     "data": {
      "text/plain": [
       "43"
      ]
     },
     "execution_count": 125,
     "metadata": {},
     "output_type": "execute_result"
    }
   ],
   "source": [
    "\n",
    "\n",
    "class Cleaner:\n",
    "    \n",
    "    def clean(self, input_data):\n",
    "        #removes quotation marks at the front and end of numbers\n",
    "        self.output_data = re.sub(r'(?!(([^\"]*\"){2})*[^\"]*$),', '', input_data)\n",
    "        #removes '.00's and replaces round brackets with negatives  \n",
    "        self.output_data = self.output_data.replace('(', '-').replace(')', '').replace('.00', '').replace('\"', '')\n",
    "        #removes commas in numbers\n",
    "        self.output_data = re.sub(r'(\\w)\\s([0-9]+.[0-9]+),', r'\\1,\\2 ', self.output_data)\n",
    "        return self.output_data\n",
    "\n",
    "len(dirty_files)"
   ]
  },
  {
   "cell_type": "code",
   "execution_count": 126,
   "id": "f40a4da2",
   "metadata": {},
   "outputs": [
    {
     "name": "stdout",
     "output_type": "stream",
     "text": [
      "./data/tabula-MDL/tabula-MDL - PSJ3 Exhibit 88-42.csv\n",
      "./data/tabula-MDL/tabula-MDL - PSJ3 Exhibit 88-41.csv\n",
      "./data/tabula-MDL/tabula-MDL - PSJ3 Exhibit 88-40.csv\n",
      "./data/tabula-MDL/tabula-MDL - PSJ3 Exhibit 88-33.csv\n",
      "./data/tabula-MDL/tabula-MDL - PSJ3 Exhibit 88-27.csv\n",
      "./data/tabula-MDL/tabula-MDL - PSJ3 Exhibit 88-26.csv\n",
      "./data/tabula-MDL/tabula-MDL - PSJ3 Exhibit 88-32.csv\n",
      "./data/tabula-MDL/tabula-MDL - PSJ3 Exhibit 88-9.csv\n",
      "./data/tabula-MDL/tabula-MDL - PSJ3 Exhibit 88-18.csv\n",
      "./data/tabula-MDL/tabula-MDL - PSJ3 Exhibit 88-24.csv\n",
      "./data/tabula-MDL/tabula-MDL - PSJ3 Exhibit 88-30.csv\n",
      "./data/tabula-MDL/tabula-MDL - PSJ3 Exhibit 88-31.csv\n",
      "./data/tabula-MDL/tabula-MDL - PSJ3 Exhibit 88-25.csv\n",
      "./data/tabula-MDL/tabula-MDL - PSJ3 Exhibit 88-19.csv\n",
      "./data/tabula-MDL/tabula-MDL - PSJ3 Exhibit 88-8.csv\n",
      "./data/tabula-MDL/tabula-MDL - PSJ3 Exhibit 88-21.csv\n",
      "./data/tabula-MDL/tabula-MDL - PSJ3 Exhibit 88-35.csv\n",
      "./data/tabula-MDL/tabula-MDL - PSJ3 Exhibit 88-34.csv\n",
      "./data/tabula-MDL/tabula-MDL - PSJ3 Exhibit 88-20.csv\n",
      "./data/tabula-MDL/tabula-MDL - PSJ3 Exhibit 88-36.csv\n",
      "./data/tabula-MDL/tabula-MDL - PSJ3 Exhibit 88-22.csv\n",
      "./data/tabula-MDL/tabula-MDL - PSJ3 Exhibit 88-23.csv\n",
      "./data/tabula-MDL/tabula-MDL - PSJ3 Exhibit 88-37.csv\n",
      "./data/tabula-MDL/tabula-MDL - PSJ3 Exhibit 88-3.csv\n",
      "./data/tabula-MDL/tabula-MDL - PSJ3 Exhibit 88-12.csv\n",
      "./data/tabula-MDL/tabula-MDL - PSJ3 Exhibit 88-13.csv\n",
      "./data/tabula-MDL/tabula-MDL - PSJ3 Exhibit 88-2.csv\n",
      "./data/tabula-MDL/tabula-MDL - PSJ3 Exhibit 88-0.csv\n",
      "./data/tabula-MDL/tabula-MDL - PSJ3 Exhibit 88-39.csv\n",
      "./data/tabula-MDL/tabula-MDL - PSJ3 Exhibit 88-11.csv\n",
      "./data/tabula-MDL/tabula-MDL - PSJ3 Exhibit 88-10.csv\n",
      "./data/tabula-MDL/tabula-MDL - PSJ3 Exhibit 88-38.csv\n",
      "./data/tabula-MDL/tabula-MDL - PSJ3 Exhibit 88-1.csv\n",
      "./data/tabula-MDL/tabula-MDL - PSJ3 Exhibit 88-5.csv\n",
      "./data/tabula-MDL/tabula-MDL - PSJ3 Exhibit 88-14.csv\n",
      "./data/tabula-MDL/tabula-MDL - PSJ3 Exhibit 88-28.csv\n",
      "./data/tabula-MDL/tabula-MDL - PSJ3 Exhibit 88-29.csv\n",
      "./data/tabula-MDL/tabula-MDL - PSJ3 Exhibit 88-15.csv\n",
      "./data/tabula-MDL/tabula-MDL - PSJ3 Exhibit 88-4.csv\n",
      "./data/tabula-MDL/tabula-MDL - PSJ3 Exhibit 88-6.csv\n",
      "./data/tabula-MDL/tabula-MDL - PSJ3 Exhibit 88-17.csv\n",
      "./data/tabula-MDL/tabula-MDL - PSJ3 Exhibit 88-16.csv\n",
      "./data/tabula-MDL/tabula-MDL - PSJ3 Exhibit 88-7.csv\n"
     ]
    }
   ],
   "source": [
    "for dirty_file in dirty_files:\n",
    "    print(dirty_file)\n",
    "    with open(dirty_file) as file:\n",
    "        data = file.read()\n",
    "        file.close()\n",
    "    cleaner = Cleaner()\n",
    "    clean_data = cleaner.clean(data)\n",
    "    output_name = dirty_file.split('/')[-1].replace('  ', ' ').replace(' ', '-').replace('---', '-').replace('--', '-')\n",
    "    with open(f'./data/cleaned-tabula/{output_name}', 'w') as output:\n",
    "        output.write(clean_data)\n",
    "        output.close()"
   ]
  },
  {
   "cell_type": "code",
   "execution_count": 42,
   "id": "31296810",
   "metadata": {},
   "outputs": [
    {
     "data": {
      "text/plain": [
       "'Organization,2002,2003,2004,2005,2006,2007,2008,2009,2010,2011,2012,2013,2014,2015,Grand Total\\nConventions,,,,,,,,,,,300,,,,,300\\nLecture Program,,400,,,,,,,,,,,,,,400\\nWOMEN IN GOVERNMENT,,,,\"27,500\",\"67,500\",,,,\"126,000\",\"130,000\",\"30,000\",\"20,000\",\"3,000\",\"2,000\",,\"406,000\"\\nPur Pharma Fund,,,,\"27,500\",\"65,000\",,,,\"126,000\",,,,,,,\"218,500\"\\nSt. Gov Leg  Aff,,,,,\"2,500\",,,,,\"130,000\",\"30,000\",\"20,000\",\"3,000\",\"2,000\",,\"187,500\"\\nWYOMING STATE BOARD OF PHARMACY,,300,300,\"5,350\",350,\"1,000\",\"1,000\",\"1,000\",\"1,150\",\"1,050\",\"1,000\",\"1,000\",\"1,050\",\"1,000\",,\"15,550\"\\nGeneral Counsel,,300,300,350,350,\"1,000\",\"1,000\",\"1,000\",\"1,150\",\"1,050\",\"1,000\",\"1,000\",\"1,050\",\"1,000\",,\"10,550\"\\nSt. Gov Leg  Aff,,,,\"5,000\",,,,,,,,,,,,\"5,000\"\\nYELLOWSTONE NEUROSURGICAL ASSOC PC,,,,750,,,,,,,,,,,,750\\nConventions,,,,750,,,,,,,,,,,,750\\nYMC AMERICA INC,,,,,,,,,,,\"1,323.86\",\"16,907.96\",\"2,322.89\",\"10,027.54\",,\"30,582.25\"\\nAnalytical Sci,,,,,,,,,,,,\"1,325.80\",,7 06.71,,\"2,032.51\"\\nQuality Control,,,,,,,,,,,649.72,\"15,582.16\",\"2,322.89\",\"9,320.83\",,\"27,875.60\"\\nR & D Rhodes,,,,,,,,,,,674.14,,,,,674.14\\nYMCA OF NORWALK INC,\"2 ,500\",,\"6,000\",,,,,,,,,,,,,\"8,500\"\\nJapan LicBusDev,,,\"5,000\",,,,,,,,,,,,,\"5,000\"\\nPur Pharma Fund,\"2,500\",,\"1,000\",,,,,,,,,,,,,\"3,500\"\\nYOUNG MEN S CHRISTIAN ASSO OF STAMF  DBA STAMFORD YMC,5,\",000\",\"3,475\",695,,,,,,\"1,500\",,\"2,500\",,,,\"13,170\"\\nHuman Resources,,,\"3,475\",695,,,,,,,,,,,,\"4,170\"\\nPur Pharma Fund,\"5,000\",,,,,,,,,\"1,500\",,\"2,500\",,,,\"9,000\"\\nGrand Total,\"7,408,715.65\",,\"10,577,902.56\",\"11,831,150.37\",\"8,493,515.08\",\"5,657,424.55\",\"5,829,182.25\",\"5,650,985.86\",\"8,943,181.76\",\"11,170,437.48\",\"12,105,420.48\",\"10,740,452.15\",\"8,876,376.70\",\"6,374,942.34\",\"2,129,286\",\"115,788,973.23\"\\n'"
      ]
     },
     "execution_count": 42,
     "metadata": {},
     "output_type": "execute_result"
    }
   ],
   "source": [
    "clean_data"
   ]
  },
  {
   "cell_type": "code",
   "execution_count": 116,
   "id": "75726ac5",
   "metadata": {},
   "outputs": [],
   "source": [
    "with open(dirty_files[25]) as file:\n",
    "    data = file.read()"
   ]
  },
  {
   "cell_type": "code",
   "execution_count": 117,
   "id": "de1e464c",
   "metadata": {},
   "outputs": [
    {
     "data": {
      "text/plain": [
       "'Organization,2002,2003,2004,2005,2006,2007,2008,2009,2010,2011,2012,2013,2014,2015,Grand Total\\nSt. Gov Leg  Aff,,,,,,\"201,500.00\",\"100,000.00\",\"10,175.99\",\"25,000.00\",\"25,000.00\",\"184,520.00\",\"25,000.00\",\"100,000.00\",\"15,000.00\",\"686,195.99\"\\nCENTRAL ARIZONA CHAPTER CMSA,400.00,,,,,,,,,,,,,,400.00\\nManagedCare FF,400.00,,,,,,,,,,,,,,400.00\\n\"CENTRAL COAST COUNTIES PHARMACIST ASSOCIATION 1 ,500.00\",,,,,,,,,,,,,,,\"1,500.00\"\\n\"Lecture Program 1,500.00\",,,,,,,,,,,,,,,\"1,500.00\"\\nCENTRAL IOWA ONCOLOGY NURSING SOC,,,\"1,500.00\",,,,,,,,,,,,\"1,500.00\"\\nLecture Program,,,\"1,500.00\",,,,,,,,,,,,\"1,500.00\"\\nCENTRAL MIDWEST CHAPTER AMERICAN SOCIETY FOR PAIN MGT NURSI,,,\"2,250.00\",,,,,,,,,500.00,,,\"2,750.00\"\\nConventions,,,,,,,,,,,,500.00,,,500.00\\nLecture Programs,,,\"2,250.00\",,,,,,,,,,,,\"2,250.00\"\\nCENTRAL MINNESOTA SOCIETY OF HOSPITAL PHARMACISTS 1,\",000.00\",,\"1,000.00\",,,,,,,\"2,500.00\",,,,,\"4,500.00\"\\nConventions,,,\"1,000.00\",,,,,,,,,,,,\"1,000.00\"\\n\"ManagedCare FF 1,000.00\",,,,,,,,,,,,,,,\"1,000.00\"\\nMedical Ed,,,,,,,,,,\"2,500.00\",,,,,\"2,500.00\"\\nCENTRAL OHIO ACADEMY OF FAMILY PHYSICIANS 1,\",000.00\",,500.00,,,,,,300.00,,,,,,\"1,800.00\"\\nConventions,,,500.00,,,,,,300.00,,,,,,800.00\\n\"Lecture Program 1,000.00\",,,,,,,,,,,,,,,\"1,000.00\"\\nCENTRAL PA ONCOLOGY NURSING SOCIETY CANCER CARE ASSOCI,750.00,,\"1,250.00\",,,,,,,,,,,,\"2,000.00\"\\nConventions,,,250.00,,,,,,,,,,,,250.00\\nLecture Program,750.00,,\"1,000.00\",,,,,,,,,,,,\"1,750.00\"\\nCHICAGO CHAPTER OF THE ONCOLOGY NURSING SOCIETY,,,,,\"1,300.00\",,,,,,,,,,\"1,300.00\"\\nConventions,,,,,300.00,,,,,,,,,,300.00\\nMedical Ed,,,,,\"1,000.00\",,,,,,,,,,\"1,000.00\"\\n\"CHICAGO WESTERN SUBURBS CHPTR ONCOLOGY NURSING SOCIET1 ,500.00\",,,,,,,,,,,,,,,\"1,500.00\"\\n\"Medical Ed 1,500.00\",,,,,,,,,,,,,,,\"1,500.00\"\\nCHILD NEUROLOGY EDUCATION & RESEARCH FOUNDATION,,,,,,,,,,,\"10,000.00\",,,,\"10,000.00\"\\nSt. Gov Leg  Aff,,,,,,,,,,,\"10,000.00\",,,,\"10,000.00\"\\nCINCINNATI TRI STATE CHAPTER ONS,,,500.00,,,,,,,,,,,,500.00\\nConventions,,,500.00,,,,,,,,,,,,500.00\\n\"CLEVELAND CHAPTER ONCOLOGY NURSING SOCIETY 2 ,500.00\",,,,,,,,,,,,,,,\"2,500.00\"\\n\"Lecture Program 2,500.00\",,,,,,,,,,,,,,,\"2,500.00\"\\n\"COLE BARRY E MD 37,272.60\",,,\"17,669.14\",\"4,034.17\",,,,,,,,,,,\"58,975.91\"\\n\"Lecture Program 37,272.60\",,,\"6,121.37\",,,,,,,,,,,,\"43,393.97\"\\nLecture Programs,,,\"11,547.77\",,,,,,,,,,,,\"11,547.77\"\\nMedical Ed,,,,\"1,034.17\",,,,,,,,,,,\"1,034.17\"\\nNew Prod-Budget,,,,\"3,000.00\",,,,,,,,,,,\"3,000.00\"\\nCOLLEGE OF OSTEOPATHIC MEDICINE OF OKLAHOMA STATE UNIV ALUMNI ASSN,,,\"1,000.00\",,,,,,,,,,,,\"1,000.00\"\\nMedical Ed,,,\"1,000.00\",,,,,,,,,,,,\"1,000.00\"\\n\"COLORADO ACADEMY OF FAMILY PHYSICIANS 2 ,000.00\",,,850.00,,,,,,,\"5,000.00\",,,,,\"7,850.00\"\\nConventions,,,850.00,,,,,,,,,,,,850.00\\n\"Lecture Program 2,000.00\",,,,,,,,,,,,,,,\"2,000.00\"\\nMedical Ed,,,,,,,,,,\"5,000.00\",,,,,\"5,000.00\"\\nCOLORADO ASSOC OF CHIEFS OF POLICE,,,,400.00,,,,,,,,,,,400.00\\nLELE,,,,400.00,,,,,,,,,,,400.00\\nCOLORADO BUREAU OF INVESTIGATION,,,,,,79.00,,,39.50,,,,39.50,,158.00\\nGeneral Counsel,,,,,,79.00,,,39.50,,,,39.50,,158.00\\nCOLORADO MEDICAL DIRECTORS ASSOC,650.00,,,,,,,,,,,,,,650.00\\nLecture Program,650.00,,,,,,,,,,,,,,650.00\\nCOLORADO PRESCRIPTION DRUG ABUSE TASK FORCE,4.99,,\"10,100.00\",,,,,,,,,,,,\"10,104.99\"\\nCreative Servs,4.99,,,,,,,,,,,,,,4.99\\nMedical Ed,,,\"10,100.00\",,,,,,,,,,,,\"10,100.00\"\\n\"COLORADO SOCIETY OF OSTEOPATHIC MEDICINE 3 ,500.00\",,,,\"1,200.00\",,,\"5,000.00\",,,,,,,,\"9,700.00\"\\nConventions,,,,\"1,200.00\",,,,,,,,,,,\"1,200.00\"\\nMedical Ed,,,,,,,\"5,000.00\",,,,,,,,\"5,000.00\"\\n\"Other 3,500.00\",,,,,,,,,,,,,,,\"3,500.00\"\\nCOLUMBIA COUNTY BOARD OF COMMISS COLUMBIA COUNTY SHERIFF OFFICE,,,,\"10,000.00\",,,,,,,,,,,\"10,000.00\"\\nCorp.Security,,,,\"10,000.00\",,,,,,,,,,,\"10,000.00\"\\nCOLUMBIA COUNTY SHERIFFS DEPT SHERIFFS OFFICE,,,,\"1,000.00\",,,,,,,,,,,\"1,000.00\"\\nCorp.Security,,,,\"1,000.00\",,,,,,,,,,,\"1,000.00\"\\n'"
      ]
     },
     "execution_count": 117,
     "metadata": {},
     "output_type": "execute_result"
    }
   ],
   "source": [
    "data"
   ]
  },
  {
   "cell_type": "code",
   "execution_count": 120,
   "id": "d968bb2e",
   "metadata": {},
   "outputs": [
    {
     "data": {
      "text/plain": [
       "'Organization,2002,2003,2004,2005,2006,2007,2008,2009,2010,2011,2012,2013,2014,2015,Grand Total\\nSt. Gov Leg  Aff,,,,,,201500,100000,10175.99,25000,25000,184520,25000,100000,15000,686195.99\\nCENTRAL ARIZONA CHAPTER CMSA,400,,,,,,,,,,,,,,400\\nManagedCare FF,400,,,,,,,,,,,,,,400\\nCENTRAL COAST COUNTIES PHARMACIST ASSOCIATION 1,500 ,,,,,,,,,,,,,,1500\\nLecture Program,1500 ,,,,,,,,,,,,,,1500\\nCENTRAL IOWA ONCOLOGY NURSING SOC,,,1500,,,,,,,,,,,,1500\\nLecture Program,,,1500,,,,,,,,,,,,1500\\nCENTRAL MIDWEST CHAPTER AMERICAN SOCIETY FOR PAIN MGT NURSI,,,2250,,,,,,,,,500,,,2750\\nConventions,,,,,,,,,,,,500,,,500\\nLecture Programs,,,2250,,,,,,,,,,,,2250\\nCENTRAL MINNESOTA SOCIETY OF HOSPITAL PHARMACISTS,1 000,,1000,,,,,,,2500,,,,,4500\\nConventions,,,1000,,,,,,,,,,,,1000\\nManagedCare FF,1000 ,,,,,,,,,,,,,,1000\\nMedical Ed,,,,,,,,,,2500,,,,,2500\\nCENTRAL OHIO ACADEMY OF FAMILY PHYSICIANS,1 000,,500,,,,,,300,,,,,,1800\\nConventions,,,500,,,,,,300,,,,,,800\\nLecture Program,1000 ,,,,,,,,,,,,,,1000\\nCENTRAL PA ONCOLOGY NURSING SOCIETY CANCER CARE ASSOCI,750,,1250,,,,,,,,,,,,2000\\nConventions,,,250,,,,,,,,,,,,250\\nLecture Program,750,,1000,,,,,,,,,,,,1750\\nCHICAGO CHAPTER OF THE ONCOLOGY NURSING SOCIETY,,,,,1300,,,,,,,,,,1300\\nConventions,,,,,300,,,,,,,,,,300\\nMedical Ed,,,,,1000,,,,,,,,,,1000\\nCHICAGO WESTERN SUBURBS CHPTR ONCOLOGY NURSING SOCIET1,500 ,,,,,,,,,,,,,,1500\\nMedical Ed,1500 ,,,,,,,,,,,,,,1500\\nCHILD NEUROLOGY EDUCATION & RESEARCH FOUNDATION,,,,,,,,,,,10000,,,,10000\\nSt. Gov Leg  Aff,,,,,,,,,,,10000,,,,10000\\nCINCINNATI TRI STATE CHAPTER ONS,,,500,,,,,,,,,,,,500\\nConventions,,,500,,,,,,,,,,,,500\\nCLEVELAND CHAPTER ONCOLOGY NURSING SOCIETY 2,500 ,,,,,,,,,,,,,,2500\\nLecture Program,2500 ,,,,,,,,,,,,,,2500\\nCOLE BARRY E MD 37272.60,,,17669.14,4034.17,,,,,,,,,,,58975.91\\nLecture Program 37272.60,,,6121.37,,,,,,,,,,,,43393.97\\nLecture Programs,,,11547.77,,,,,,,,,,,,11547.77\\nMedical Ed,,,,1034.17,,,,,,,,,,,1034.17\\nNew Prod-Budget,,,,3000,,,,,,,,,,,3000\\nCOLLEGE OF OSTEOPATHIC MEDICINE OF OKLAHOMA STATE UNIV ALUMNI ASSN,,,1000,,,,,,,,,,,,1000\\nMedical Ed,,,1000,,,,,,,,,,,,1000\\nCOLORADO ACADEMY OF FAMILY PHYSICIANS 2,000 ,,850,,,,,,,5000,,,,,7850\\nConventions,,,850,,,,,,,,,,,,850\\nLecture Program,2000 ,,,,,,,,,,,,,,2000\\nMedical Ed,,,,,,,,,,5000,,,,,5000\\nCOLORADO ASSOC OF CHIEFS OF POLICE,,,,400,,,,,,,,,,,400\\nLELE,,,,400,,,,,,,,,,,400\\nCOLORADO BUREAU OF INVESTIGATION,,,,,,79,,,39.50,,,,39.50,,158\\nGeneral Counsel,,,,,,79,,,39.50,,,,39.50,,158\\nCOLORADO MEDICAL DIRECTORS ASSOC,650,,,,,,,,,,,,,,650\\nLecture Program,650,,,,,,,,,,,,,,650\\nCOLORADO PRESCRIPTION DRUG ABUSE TASK FORCE,4.99,,10100,,,,,,,,,,,,10104.99\\nCreative Servs,4.99,,,,,,,,,,,,,,4.99\\nMedical Ed,,,10100,,,,,,,,,,,,10100\\nCOLORADO SOCIETY OF OSTEOPATHIC MEDICINE 3,500 ,,,1200,,,5000,,,,,,,,9700\\nConventions,,,,1200,,,,,,,,,,,1200\\nMedical Ed,,,,,,,5000,,,,,,,,5000\\nOther,3500 ,,,,,,,,,,,,,,3500\\nCOLUMBIA COUNTY BOARD OF COMMISS COLUMBIA COUNTY SHERIFF OFFICE,,,,10000,,,,,,,,,,,10000\\nCorp.Security,,,,10000,,,,,,,,,,,10000\\nCOLUMBIA COUNTY SHERIFFS DEPT SHERIFFS OFFICE,,,,1000,,,,,,,,,,,1000\\nCorp.Security,,,,1000,,,,,,,,,,,1000\\n'"
      ]
     },
     "execution_count": 120,
     "metadata": {},
     "output_type": "execute_result"
    }
   ],
   "source": [
    "cleaner = Cleaner()\n",
    "cleaner.clean(data)\n",
    "#data"
   ]
  },
  {
   "cell_type": "code",
   "execution_count": 123,
   "id": "1827eeb0",
   "metadata": {},
   "outputs": [
    {
     "data": {
      "text/plain": [
       "'Lecture Program,1500.00 ,,1500.00\\n'"
      ]
     },
     "execution_count": 123,
     "metadata": {},
     "output_type": "execute_result"
    }
   ],
   "source": [
    "test_data = '\"Lecture Program 1500.00\",,,\"1500.00\"\\n'\n",
    "test_data = test_data.replace('\"', '')\n",
    "re.sub(r'(\\w)\\s([0-9]+.[0-9]+),', r'\\1,\\2 ', test_data)"
   ]
  },
  {
   "cell_type": "code",
   "execution_count": 111,
   "id": "97bb186c",
   "metadata": {},
   "outputs": [
    {
     "data": {
      "text/plain": [
       "[('m', '1500')]"
      ]
     },
     "execution_count": 111,
     "metadata": {},
     "output_type": "execute_result"
    }
   ],
   "source": [
    "re.findall(r'(\\w)\\s([0-9]+)',test_data)"
   ]
  },
  {
   "cell_type": "code",
   "execution_count": null,
   "id": "a9f0b72c",
   "metadata": {},
   "outputs": [],
   "source": []
  },
  {
   "cell_type": "code",
   "execution_count": null,
   "id": "38fe6aa4",
   "metadata": {},
   "outputs": [],
   "source": []
  },
  {
   "cell_type": "code",
   "execution_count": null,
   "id": "599e3dfe",
   "metadata": {},
   "outputs": [],
   "source": []
  }
 ],
 "metadata": {
  "kernelspec": {
   "display_name": "Python 3 (ipykernel)",
   "language": "python",
   "name": "python3"
  },
  "language_info": {
   "codemirror_mode": {
    "name": "ipython",
    "version": 3
   },
   "file_extension": ".py",
   "mimetype": "text/x-python",
   "name": "python",
   "nbconvert_exporter": "python",
   "pygments_lexer": "ipython3",
   "version": "3.9.6"
  }
 },
 "nbformat": 4,
 "nbformat_minor": 5
}
