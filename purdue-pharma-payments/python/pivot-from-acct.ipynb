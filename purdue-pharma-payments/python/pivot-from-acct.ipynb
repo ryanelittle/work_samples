{
 "cells": [
  {
   "cell_type": "code",
   "execution_count": 4,
   "id": "5679eefc",
   "metadata": {},
   "outputs": [
    {
     "name": "stderr",
     "output_type": "stream",
     "text": [
      "100%|█████████████████████████████████████████████████████████████████████████████| 2494/2494 [00:03<00:00, 801.54it/s]\n"
     ]
    }
   ],
   "source": [
    "from scraps.payment_parser.payment_parser import PaymentParser\n",
    "paymentparser = PaymentParser()\n",
    "paymentparser.parse_lines('../data/binded_cleaned_tabula.csv', '../data/pivoted_binded_cleaned_tabula', './data/')"
   ]
  }
 ],
 "metadata": {
  "kernelspec": {
   "display_name": "Python 3 (ipykernel)",
   "language": "python",
   "name": "python3"
  },
  "language_info": {
   "codemirror_mode": {
    "name": "ipython",
    "version": 3
   },
   "file_extension": ".py",
   "mimetype": "text/x-python",
   "name": "python",
   "nbconvert_exporter": "python",
   "pygments_lexer": "ipython3",
   "version": "3.9.6"
  }
 },
 "nbformat": 4,
 "nbformat_minor": 5
}
