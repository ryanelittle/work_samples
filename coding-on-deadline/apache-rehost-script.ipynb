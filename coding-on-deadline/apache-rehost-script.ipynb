{
 "cells": [
  {
   "cell_type": "code",
   "execution_count": 1,
   "metadata": {},
   "outputs": [],
   "source": [
    "from selenium import webdriver\n",
    "from selenium.webdriver.chrome.options import Options\n",
    "from selenium.webdriver.common.keys import Keys\n",
    "from selenium.webdriver.support import expected_conditions as EC\n",
    "from selenium.common.exceptions import JavascriptException, NoSuchElementException, StaleElementReferenceException\n",
    "from selenium.common.exceptions import TimeoutException, ElementClickInterceptedException\n",
    "from selenium.common.exceptions import ElementNotInteractableException, ElementNotSelectableException\n",
    "from selenium.webdriver import ActionChains\n",
    "from selenium.webdriver.common.by import By\n",
    "from selenium.webdriver.support.ui import WebDriverWait\n",
    "import time\n",
    "from IPython.display import clear_output\n",
    "import os\n",
    "import base64\n",
    "from github import Github\n",
    "from github import InputGitTreeElement\n",
    "from datetime import datetime\n",
    "import PyPDF2\n",
    "from tika import parser\n",
    "import pdfplumber"
   ]
  },
  {
   "cell_type": "code",
   "execution_count": 3,
   "metadata": {},
   "outputs": [],
   "source": [
    "download_path = 'C:\\\\Users\\\\rlitt\\\\Documents\\\\GitHub\\\\apache'\n",
    "chrome_options = Options()\n",
    "chrome_options.add_argument(\"--headless\")\n",
    "chrome_options.add_argument(\"--window-size=1920x1080\")\n",
    "chrome_options.add_argument(\"--disable-notifications\")\n",
    "chrome_options.add_argument('--no-sandbox')\n",
    "chrome_options.add_argument('--verbose')\n",
    "chrome_options.add_experimental_option(\"prefs\", {\n",
    "        \"download.default_directory\": download_path,\n",
    "        \"download.prompt_for_download\": False,\n",
    "        \"download.directory_upgrade\": True,\n",
    "        \"safebrowsing_for_trusted_sources_enabled\": False,\n",
    "        \"safebrowsing.enabled\": False\n",
    "})\n",
    "chrome_options.add_argument('--disable-gpu')\n",
    "chrome_options.add_argument('--disable-software-rasterizer')\n"
   ]
  },
  {
   "cell_type": "code",
   "execution_count": 4,
   "metadata": {},
   "outputs": [],
   "source": [
    "def get_new_pdf():\n",
    "    #load page\n",
    "    global driver\n",
    "    print('getting pdf')\n",
    "    driver = webdriver.Chrome(options=chrome_options, executable_path=\"chromedriver.exe\")\n",
    "    link_to_results_pdf = '/html/body/div[1]/div[4]/main/aside/p[2]/a'\n",
    "    driver.get('https://www.apachecountyaz.gov/Elections')\n",
    "    time.sleep(5)\n",
    "    pdf_url = driver.find_element_by_xpath(link_to_results_pdf).get_attribute('href')\n",
    "    driver.get(pdf_url)\n",
    "    time.sleep(5)\n",
    "    driver.find_element_by_xpath('/html/body/div[3]/div[3]/div/div[3]/div[2]/div[2]/div[3]/div').click()\n",
    "\n",
    "def delete_pdf():\n",
    "    pdf_object.close()\n",
    "    os.remove(f'{download_path}\\\\ElectionResults.pdf')\n",
    "    os.remove(f'{download_path}\\\\ElectionResults.txt')\n",
    "    print('deleting old version')\n",
    "    \n",
    "def convert_pdf_to_text():\n",
    "    global pdf_object\n",
    "    print('converting to txt')\n",
    "    pdf_object = pdfplumber.open(f'{download_path}\\\\ElectionResults.pdf')\n",
    "    pdf_output = ''\n",
    "    for i in range(3):\n",
    "        pdf_page = pdf_object.pages[i]\n",
    "        pdf_text = pdf_page.extract_text()\n",
    "        pdf_output = pdf_output + pdf_text\n",
    "    outfile = open(f'{download_path}\\\\ElectionResults.txt', \"w\")\n",
    "    outfile.write(pdf_output)\n",
    "    outfile.close()\n",
    "    driver.close()\n",
    "\n",
    "#cribbed from https://stackoverflow.com/questions/50071841/how-to-push-local-files-to-github-using-python-or-post-a-commit-via-python\n",
    "def commit_new_pdf():\n",
    "    print('pushing pdf')\n",
    "    user = \"ryanelittle\"\n",
    "    password = \"\"\n",
    "    g = Github(user,password)\n",
    "    repo = g.get_user().get_repo('apache')\n",
    "    now = datetime.now()\n",
    "    commit_message = f'refreshed update at {now.strftime(\"%H:%M:%S\")}'\n",
    "    master_ref = repo.get_git_ref('heads/master')\n",
    "    master_sha = master_ref.object.sha\n",
    "    base_tree = repo.get_git_tree(master_sha)\n",
    "    element_list = list()\n",
    "    with open(f'{download_path}\\\\ElectionResults.txt') as input_file:\n",
    "        data = input_file.read()\n",
    "    element = InputGitTreeElement('apache-election-results.txt', '100644', 'blob', data)\n",
    "    element_list.append(element)\n",
    "    tree = repo.create_git_tree(element_list, base_tree)\n",
    "    parent = repo.get_git_commit(master_sha)\n",
    "    commit = repo.create_git_commit(commit_message, tree, [parent])\n",
    "    master_ref.edit(commit.sha)\n",
    "    print(f'pdf pushed at {now.strftime(\"%H:%M:%S\")}')"
   ]
  },
  {
   "cell_type": "code",
   "execution_count": null,
   "metadata": {},
   "outputs": [
    {
     "name": "stdout",
     "output_type": "stream",
     "text": [
      "Starting loop 1403.\n",
      "getting pdf\n"
     ]
    }
   ],
   "source": [
    "count = 0\n",
    "for i in range(10000000):\n",
    "    count = count + 1\n",
    "    print(f'Starting loop {str(count)}.')\n",
    "    get_new_pdf()\n",
    "    time.sleep(5)\n",
    "    try:\n",
    "        convert_pdf_to_text()\n",
    "        time.sleep(10)\n",
    "        commit_new_pdf()\n",
    "        time.sleep(15)\n",
    "        delete_pdf()\n",
    "    except:\n",
    "        pass\n",
    "    time.sleep(30)\n",
    "    clear_output(wait=True)"
   ]
  }
 ],
 "metadata": {
  "kernelspec": {
   "display_name": "Python 3",
   "language": "python",
   "name": "python3"
  },
  "language_info": {
   "codemirror_mode": {
    "name": "ipython",
    "version": 3
   },
   "file_extension": ".py",
   "mimetype": "text/x-python",
   "name": "python",
   "nbconvert_exporter": "python",
   "pygments_lexer": "ipython3",
   "version": "3.8.5"
  }
 },
 "nbformat": 4,
 "nbformat_minor": 4
}
