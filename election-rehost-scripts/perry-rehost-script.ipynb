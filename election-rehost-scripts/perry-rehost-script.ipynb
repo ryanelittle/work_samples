{
 "cells": [
  {
   "cell_type": "code",
   "execution_count": 1,
   "metadata": {},
   "outputs": [],
   "source": [
    "from selenium import webdriver\n",
    "from selenium.webdriver.chrome.options import Options\n",
    "from selenium.webdriver.common.keys import Keys\n",
    "from selenium.webdriver.support import expected_conditions as EC\n",
    "from selenium.common.exceptions import JavascriptException, NoSuchElementException, StaleElementReferenceException\n",
    "from selenium.common.exceptions import TimeoutException, ElementClickInterceptedException\n",
    "from selenium.common.exceptions import ElementNotInteractableException, ElementNotSelectableException\n",
    "from selenium.webdriver import ActionChains\n",
    "from selenium.webdriver.common.by import By\n",
    "from selenium.webdriver.support.ui import WebDriverWait\n",
    "import time\n",
    "from IPython.display import clear_output\n",
    "import os\n",
    "import base64\n",
    "from github import Github\n",
    "from github import InputGitTreeElement\n",
    "from datetime import datetime"
   ]
  },
  {
   "cell_type": "code",
   "execution_count": 6,
   "metadata": {},
   "outputs": [],
   "source": [
    "download_path = 'C:\\\\Users\\\\rlitt\\\\Documents\\\\GitHub\\\\perry'\n",
    "chrome_options = Options()\n",
    "#chrome_options.add_argument(\"--headless\")\n",
    "chrome_options.add_argument(\"--window-size=1920x1080\")\n",
    "chrome_options.add_argument(\"--disable-notifications\")\n",
    "chrome_options.add_argument('--no-sandbox')\n",
    "chrome_options.add_argument('--verbose')\n",
    "chrome_options.add_experimental_option(\"prefs\", {\n",
    "        \"download.default_directory\": download_path,\n",
    "        \"download.prompt_for_download\": False,\n",
    "        \"download.directory_upgrade\": True,\n",
    "        \"safebrowsing_for_trusted_sources_enabled\": False,\n",
    "        \"safebrowsing.enabled\": False\n",
    "})\n",
    "chrome_options.add_argument('--disable-gpu')\n",
    "chrome_options.add_argument('--disable-software-rasterizer')\n",
    "driver = webdriver.Chrome(options=chrome_options, executable_path=\"chromedriver.exe\")\n",
    "now = datetime.now()"
   ]
  },
  {
   "cell_type": "code",
   "execution_count": 7,
   "metadata": {},
   "outputs": [],
   "source": [
    "def get_new_pdf():\n",
    "    #load page\n",
    "    print('getting pdf')\n",
    "    link_to_results_pdf = '//*[@id=\"main_content\"]/div/div[1]/div/div[2]/a[1]'\n",
    "    driver.get('https://perryco.org/departments/elections-voter-registration/')\n",
    "    time.sleep(5)\n",
    "    #wait for link to load\n",
    "    #driver.wait(link_to_results_pdf)\n",
    "    #assign link to pdf\n",
    "    pdf_url = driver.find_element_by_xpath(link_to_results_pdf).get_attribute('href')\n",
    "    driver.get(pdf_url)\n",
    "\n",
    "def delete_pdf():\n",
    "    os.remove(f'{download_path}\\\\county election results.pdf')\n",
    "    print('deleting old version')\n",
    "\n",
    "#cribbed from https://stackoverflow.com/questions/50071841/how-to-push-local-files-to-github-using-python-or-post-a-commit-via-python\n",
    "def commit_new_pdf():\n",
    "    print('pushing pdf')\n",
    "    user = \"ryanelittle\"\n",
    "    password = \"\"\n",
    "    g = Github(user,password)\n",
    "    repo = g.get_user().get_repo('perry')\n",
    "    file_list = [\n",
    "        f'{download_path}\\\\county election results.pdf'\n",
    "    ]\n",
    "\n",
    "    file_names = [\n",
    "        'perry-election-results.pdf'\n",
    "    ]\n",
    "    commit_message = f'refreshed update at {now.strftime(\"%H:%M:%S\")}'\n",
    "    master_ref = repo.get_git_ref('heads/master')\n",
    "    master_sha = master_ref.object.sha\n",
    "    base_tree = repo.get_git_tree(master_sha)\n",
    "    element_list = list()\n",
    "    for i, entry in enumerate(file_list):\n",
    "        with open(entry) as input_file:\n",
    "        if entry.endswith('.png'):\n",
    "            data = base64.b64encode(data)\n",
    "        element = InputGitTreeElement(file_names[i], '100644', 'blob', data)\n",
    "        element_list.append(element)\n",
    "    tree = repo.create_git_tree(element_list, base_tree)\n",
    "    parent = repo.get_git_commit(master_sha)\n",
    "    commit = repo.create_git_commit(commit_message, tree, [parent])\n",
    "    master_ref.edit(commit.sha)\n",
    "    print(f'pdf pushed at {now.strftime(\"%H:%M:%S\")}')"
   ]
  },
  {
   "cell_type": "code",
   "execution_count": 8,
   "metadata": {},
   "outputs": [
    {
     "name": "stdout",
     "output_type": "stream",
     "text": [
      "Starting loop 597.\n",
      "getting pdf\n",
      "pushing pdf\n"
     ]
    },
    {
     "ename": "FileNotFoundError",
     "evalue": "[WinError 2] The system cannot find the file specified: 'C:\\\\Users\\\\rlitt\\\\Documents\\\\GitHub\\\\perry\\\\county election results.pdf'",
     "output_type": "error",
     "traceback": [
      "\u001b[1;31m---------------------------------------------------------------------------\u001b[0m",
      "\u001b[1;31mFileNotFoundError\u001b[0m                         Traceback (most recent call last)",
      "\u001b[1;32m<ipython-input-8-a9d34a254543>\u001b[0m in \u001b[0;36m<module>\u001b[1;34m\u001b[0m\n\u001b[0;32m     10\u001b[0m         \u001b[1;32mpass\u001b[0m\u001b[1;33m\u001b[0m\u001b[1;33m\u001b[0m\u001b[0m\n\u001b[0;32m     11\u001b[0m     \u001b[0mtime\u001b[0m\u001b[1;33m.\u001b[0m\u001b[0msleep\u001b[0m\u001b[1;33m(\u001b[0m\u001b[1;36m15\u001b[0m\u001b[1;33m)\u001b[0m\u001b[1;33m\u001b[0m\u001b[1;33m\u001b[0m\u001b[0m\n\u001b[1;32m---> 12\u001b[1;33m     \u001b[0mdelete_pdf\u001b[0m\u001b[1;33m(\u001b[0m\u001b[1;33m)\u001b[0m\u001b[1;33m\u001b[0m\u001b[1;33m\u001b[0m\u001b[0m\n\u001b[0m\u001b[0;32m     13\u001b[0m     \u001b[0mtime\u001b[0m\u001b[1;33m.\u001b[0m\u001b[0msleep\u001b[0m\u001b[1;33m(\u001b[0m\u001b[1;36m30\u001b[0m\u001b[1;33m)\u001b[0m\u001b[1;33m\u001b[0m\u001b[1;33m\u001b[0m\u001b[0m\n\u001b[0;32m     14\u001b[0m     \u001b[0mclear_output\u001b[0m\u001b[1;33m(\u001b[0m\u001b[0mwait\u001b[0m\u001b[1;33m=\u001b[0m\u001b[1;32mTrue\u001b[0m\u001b[1;33m)\u001b[0m\u001b[1;33m\u001b[0m\u001b[1;33m\u001b[0m\u001b[0m\n",
      "\u001b[1;32m<ipython-input-7-548c9ae5b822>\u001b[0m in \u001b[0;36mdelete_pdf\u001b[1;34m()\u001b[0m\n\u001b[0;32m     12\u001b[0m \u001b[1;33m\u001b[0m\u001b[0m\n\u001b[0;32m     13\u001b[0m \u001b[1;32mdef\u001b[0m \u001b[0mdelete_pdf\u001b[0m\u001b[1;33m(\u001b[0m\u001b[1;33m)\u001b[0m\u001b[1;33m:\u001b[0m\u001b[1;33m\u001b[0m\u001b[1;33m\u001b[0m\u001b[0m\n\u001b[1;32m---> 14\u001b[1;33m     \u001b[0mos\u001b[0m\u001b[1;33m.\u001b[0m\u001b[0mremove\u001b[0m\u001b[1;33m(\u001b[0m\u001b[1;34mf'{download_path}\\\\county election results.pdf'\u001b[0m\u001b[1;33m)\u001b[0m\u001b[1;33m\u001b[0m\u001b[1;33m\u001b[0m\u001b[0m\n\u001b[0m\u001b[0;32m     15\u001b[0m     \u001b[0mprint\u001b[0m\u001b[1;33m(\u001b[0m\u001b[1;34m'deleting old version'\u001b[0m\u001b[1;33m)\u001b[0m\u001b[1;33m\u001b[0m\u001b[1;33m\u001b[0m\u001b[0m\n\u001b[0;32m     16\u001b[0m \u001b[1;33m\u001b[0m\u001b[0m\n",
      "\u001b[1;31mFileNotFoundError\u001b[0m: [WinError 2] The system cannot find the file specified: 'C:\\\\Users\\\\rlitt\\\\Documents\\\\GitHub\\\\perry\\\\county election results.pdf'"
     ]
    }
   ],
   "source": [
    "count = 0\n",
    "for i in range(10000000):\n",
    "    count = count + 1\n",
    "    print(f'Starting loop {str(count)}.')\n",
    "    get_new_pdf()\n",
    "    time.sleep(15)\n",
    "    try:\n",
    "        commit_new_pdf()\n",
    "    except:\n",
    "        pass\n",
    "    time.sleep(15)\n",
    "    delete_pdf()\n",
    "    time.sleep(30)\n",
    "    clear_output(wait=True)"
   ]
  },
  {
   "cell_type": "code",
   "execution_count": 24,
   "metadata": {},
   "outputs": [
    {
     "name": "stdout",
     "output_type": "stream",
     "text": [
      "getting pdf\n"
     ]
    }
   ],
   "source": [
    "get_new_pdf()"
   ]
  },
  {
   "cell_type": "code",
   "execution_count": 25,
   "metadata": {},
   "outputs": [
    {
     "name": "stdout",
     "output_type": "stream",
     "text": [
      "pushing pdf\n",
      "pdf pushed at 18:13:28\n"
     ]
    }
   ],
   "source": [
    "commit_new_pdf()"
   ]
  },
  {
   "cell_type": "code",
   "execution_count": 27,
   "metadata": {},
   "outputs": [],
   "source": [
    "user = \"ryanelittle\"\n",
    "password = \"",
    "g = Github(user,password)\n",
    "repo = g.get_user().get_repo('perry')\n",
    "file_list = [\n",
    "    f'{download_path}\\\\county election results.pdf'\n",
    "]\n",
    "\n",
    "file_names = [\n",
    "    'perry-election-results.pdf'\n",
    "]\n",
    "commit_message = f'refreshed update at {now.strftime(\"%H:%M:%S\")}'\n",
    "master_ref = repo.get_git_ref('heads/master')\n",
    "master_sha = master_ref.object.sha\n",
    "base_tree = repo.get_git_tree(master_sha)\n",
    "element_list = list()\n",
    "for i, entry in enumerate(file_list):\n",
    "    with open(entry) as input_file:\n",
    "        data = input_file.read()\n",
    "    if entry.endswith('.png'):\n",
    "        data = base64.b64encode(data)\n",
    "    element = InputGitTreeElement(file_names[i], '100644', 'blob', data)\n",
    "    element_list.append(element)\n",
    "tree = repo.create_git_tree(element_list, base_tree)\n",
    "parent = repo.get_git_commit(master_sha)\n",
    "commit = repo.create_git_commit(commit_message, tree, [parent])\n",
    "master_ref.edit(commit.sha)"
   ]
  }
 ],
 "metadata": {
  "kernelspec": {
   "display_name": "Python 3",
   "language": "python",
   "name": "python3"
  },
  "language_info": {
   "codemirror_mode": {
    "name": "ipython",
    "version": 3
   },
   "file_extension": ".py",
   "mimetype": "text/x-python",
   "name": "python",
   "nbconvert_exporter": "python",
   "pygments_lexer": "ipython3",
   "version": "3.8.5"
  }
 },
 "nbformat": 4,
 "nbformat_minor": 4
}
